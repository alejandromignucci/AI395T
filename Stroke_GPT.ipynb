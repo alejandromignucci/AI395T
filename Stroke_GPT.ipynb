{
 "cells": [
  {
   "cell_type": "code",
   "execution_count": 1,
   "metadata": {},
   "outputs": [],
   "source": [
    "import openai\n",
    "from openai import AzureOpenAI\n",
    "from torch.utils.data import Dataset, DataLoader\n",
    "from tqdm import tqdm\n",
    "import pandas as pd\n",
    "from sklearn.model_selection import train_test_split\n",
    "import numpy as np\n",
    "from sklearn.linear_model import LogisticRegression\n",
    "from sklearn.metrics import accuracy_score, roc_auc_score, average_precision_score, RocCurveDisplay\n",
    "import time "
   ]
  },
  {
   "cell_type": "markdown",
   "metadata": {},
   "source": [
    "# Initialize Azure OpenAI Client"
   ]
  },
  {
   "cell_type": "code",
   "execution_count": null,
   "metadata": {},
   "outputs": [],
   "source": [
    "client = AzureOpenAI(\n",
    "    api_key=\"<API_KEY>\",\n",
    "    azure_endpoint=\"<ENDPOINT>\",\n",
    "    api_version=\"2024-10-01-preview\",\n",
    "    #azure_deployment=\"gpt-4o-mini\"\n",
    ")"
   ]
  },
  {
   "cell_type": "markdown",
   "metadata": {},
   "source": [
    "# Create Chat Completion Prompt Response Function"
   ]
  },
  {
   "cell_type": "code",
   "execution_count": 3,
   "metadata": {},
   "outputs": [],
   "source": [
    "def get_gpt_response(prompt: str, model: str = \"gpt-4o-mini\", temperature: float = 0.7, max_tokens: int = 250) -> str:\n",
    "    try: \n",
    "        response = client.chat.completions.create(\n",
    "            model=model,\n",
    "            messages=[\n",
    "                {\"role\": \"system\", \"content\": \"You are a helpful assistant.\"},\n",
    "                {\"role\": \"user\", \"content\": prompt}\n",
    "            ],\n",
    "            temperature=temperature,\n",
    "            max_tokens=max_tokens\n",
    "        )\n",
    "        return response.choices[0].message.content\n",
    "    except Exception as e:\n",
    "        print(f'Error: {e}')\n",
    "        return None"
   ]
  },
  {
   "cell_type": "markdown",
   "metadata": {},
   "source": [
    "# In-Context Learning for Stroke Prediction\n",
    "To take advantage of the In-Context Learning of GPT, we need to structures our prompts in order to guide our model into providing the desired output. "
   ]
  },
  {
   "cell_type": "code",
   "execution_count": 5,
   "metadata": {},
   "outputs": [
    {
     "name": "stdout",
     "output_type": "stream",
     "text": [
      "When prioritizing factors for a stroke prediction algorithm, it's important to consider the established risk factors associated with stroke. Based on existing medical research and the relative risk each factor presents, here is a suggested order of importance:\n",
      "\n",
      "1. **Hypertension** - One of the most significant risk factors for stroke.\n",
      "2. **Age** - Stroke risk increases with age.\n",
      "3. **Heart Disease** - A major risk factor that significantly increases the likelihood of stroke.\n",
      "4. **Smoking Status** - Smoking is a well-known risk factor for many cardiovascular conditions, including stroke.\n",
      "5. **Average Glucose Level** - High glucose levels can indicate diabetes, which is a risk factor for stroke.\n",
      "6. **BMI** - Obesity (high BMI) is associated with various health issues, including increased stroke risk.\n",
      "7. **Gender** - While both genders can have strokes, certain studies indicate that men may have a higher risk at younger ages, while women may catch up or surpass that risk at older ages.\n",
      "8. **Ever Married** - This factor may have some correlation with social support systems and health behaviors, but it is less direct than others.\n",
      "9. **Work Type** - Certain work types may influence stress levels and lifestyle, but this is generally a less direct risk factor for stroke compared to the others listed.\n",
      "\n",
      "This prioritization is based on the strength of association with stroke risk as supported by clinical studies and literature. However, the exact order may vary depending on the specific population and context of the study or model being developed.\n"
     ]
    }
   ],
   "source": [
    "prompt1 = 'Priotize the following factors in order of importance for a stroke prediction algorithm: gender, age, hypertension, heart disease, ever married, work type, residence type, average glucose level, bmi, and smoking status.'\n",
    "response1 = get_gpt_response(prompt1, model=\"gpt-4o-mini\", temperature=0.7, max_tokens=500)\n",
    "print(response1)"
   ]
  },
  {
   "cell_type": "markdown",
   "metadata": {},
   "source": [
    "# Continue the conversation\n",
    "Let'take the first set of prompts/reponses and lead our model to predicting if a patient has history of stroke. "
   ]
  },
  {
   "cell_type": "code",
   "execution_count": 6,
   "metadata": {},
   "outputs": [],
   "source": [
    "def continue_gpt_response(prompt1: str, response1: str, prompt2: str, model: str = \"gpt-4o-mini\", temperature: float = 0.7, max_tokens: int = 250) -> str:\n",
    "    try: \n",
    "        response = client.chat.completions.create(\n",
    "            model=model,\n",
    "            messages=[\n",
    "                {\"role\": \"system\", \"content\": \"You are a helpful assistant.\"},\n",
    "                {\"role\": \"user\", \"content\": prompt1},\n",
    "                {\"role\": \"system\", \"content\": response1},\n",
    "                {\"role\": \"user\", \"content\": prompt2}\n",
    "            ],\n",
    "            temperature=temperature,\n",
    "            max_tokens=max_tokens\n",
    "        )\n",
    "        return response.choices[0].message.content\n",
    "    except Exception as e:\n",
    "        print(f'Error: {e}')\n",
    "        return None"
   ]
  },
  {
   "cell_type": "code",
   "execution_count": 14,
   "metadata": {},
   "outputs": [
    {
     "name": "stdout",
     "output_type": "stream",
     "text": [
      "True\n"
     ]
    }
   ],
   "source": [
    "prompt2 = 'Using the factors above and weighted by their importance, predict using if the following patient has a history of stroke.The patient gender is Male . The patient age group is senior . The patient has hypertension: True . The patient has heart disease: True . The patient is married: Yes . The patient work type is Private . The patient residence type is Rural . The patient glucose level group is normal . The patient BMI group is overweight . The patient smoking status is never smoked. Please predict with a single word response of True or False.'\n",
    "\n",
    "response2 = continue_gpt_response(prompt1, response1, prompt2, model=\"gpt-4o-mini\", temperature=0.7, max_tokens=250)\n",
    "print(response2)"
   ]
  },
  {
   "cell_type": "markdown",
   "metadata": {},
   "source": [
    "# Stroke Prediction Dataset\n",
    "The first step of our Stroke GPT model is to collect the relevant data for our problem domain. "
   ]
  },
  {
   "cell_type": "code",
   "execution_count": 8,
   "metadata": {},
   "outputs": [
    {
     "data": {
      "text/html": [
       "<div>\n",
       "<style scoped>\n",
       "    .dataframe tbody tr th:only-of-type {\n",
       "        vertical-align: middle;\n",
       "    }\n",
       "\n",
       "    .dataframe tbody tr th {\n",
       "        vertical-align: top;\n",
       "    }\n",
       "\n",
       "    .dataframe thead th {\n",
       "        text-align: right;\n",
       "    }\n",
       "</style>\n",
       "<table border=\"1\" class=\"dataframe\">\n",
       "  <thead>\n",
       "    <tr style=\"text-align: right;\">\n",
       "      <th></th>\n",
       "      <th>id</th>\n",
       "      <th>gender</th>\n",
       "      <th>age</th>\n",
       "      <th>hypertension</th>\n",
       "      <th>heart_disease</th>\n",
       "      <th>ever_married</th>\n",
       "      <th>work_type</th>\n",
       "      <th>Residence_type</th>\n",
       "      <th>avg_glucose_level</th>\n",
       "      <th>bmi</th>\n",
       "      <th>smoking_status</th>\n",
       "      <th>stroke</th>\n",
       "    </tr>\n",
       "  </thead>\n",
       "  <tbody>\n",
       "    <tr>\n",
       "      <th>0</th>\n",
       "      <td>9046</td>\n",
       "      <td>Male</td>\n",
       "      <td>67.0</td>\n",
       "      <td>0</td>\n",
       "      <td>1</td>\n",
       "      <td>Yes</td>\n",
       "      <td>Private</td>\n",
       "      <td>Urban</td>\n",
       "      <td>228.69</td>\n",
       "      <td>36.6</td>\n",
       "      <td>formerly smoked</td>\n",
       "      <td>1</td>\n",
       "    </tr>\n",
       "    <tr>\n",
       "      <th>1</th>\n",
       "      <td>51676</td>\n",
       "      <td>Female</td>\n",
       "      <td>61.0</td>\n",
       "      <td>0</td>\n",
       "      <td>0</td>\n",
       "      <td>Yes</td>\n",
       "      <td>Self-employed</td>\n",
       "      <td>Rural</td>\n",
       "      <td>202.21</td>\n",
       "      <td>NaN</td>\n",
       "      <td>never smoked</td>\n",
       "      <td>1</td>\n",
       "    </tr>\n",
       "    <tr>\n",
       "      <th>2</th>\n",
       "      <td>31112</td>\n",
       "      <td>Male</td>\n",
       "      <td>80.0</td>\n",
       "      <td>0</td>\n",
       "      <td>1</td>\n",
       "      <td>Yes</td>\n",
       "      <td>Private</td>\n",
       "      <td>Rural</td>\n",
       "      <td>105.92</td>\n",
       "      <td>32.5</td>\n",
       "      <td>never smoked</td>\n",
       "      <td>1</td>\n",
       "    </tr>\n",
       "    <tr>\n",
       "      <th>3</th>\n",
       "      <td>60182</td>\n",
       "      <td>Female</td>\n",
       "      <td>49.0</td>\n",
       "      <td>0</td>\n",
       "      <td>0</td>\n",
       "      <td>Yes</td>\n",
       "      <td>Private</td>\n",
       "      <td>Urban</td>\n",
       "      <td>171.23</td>\n",
       "      <td>34.4</td>\n",
       "      <td>smokes</td>\n",
       "      <td>1</td>\n",
       "    </tr>\n",
       "    <tr>\n",
       "      <th>4</th>\n",
       "      <td>1665</td>\n",
       "      <td>Female</td>\n",
       "      <td>79.0</td>\n",
       "      <td>1</td>\n",
       "      <td>0</td>\n",
       "      <td>Yes</td>\n",
       "      <td>Self-employed</td>\n",
       "      <td>Rural</td>\n",
       "      <td>174.12</td>\n",
       "      <td>24.0</td>\n",
       "      <td>never smoked</td>\n",
       "      <td>1</td>\n",
       "    </tr>\n",
       "  </tbody>\n",
       "</table>\n",
       "</div>"
      ],
      "text/plain": [
       "      id  gender   age  hypertension  heart_disease ever_married  \\\n",
       "0   9046    Male  67.0             0              1          Yes   \n",
       "1  51676  Female  61.0             0              0          Yes   \n",
       "2  31112    Male  80.0             0              1          Yes   \n",
       "3  60182  Female  49.0             0              0          Yes   \n",
       "4   1665  Female  79.0             1              0          Yes   \n",
       "\n",
       "       work_type Residence_type  avg_glucose_level   bmi   smoking_status  \\\n",
       "0        Private          Urban             228.69  36.6  formerly smoked   \n",
       "1  Self-employed          Rural             202.21   NaN     never smoked   \n",
       "2        Private          Rural             105.92  32.5     never smoked   \n",
       "3        Private          Urban             171.23  34.4           smokes   \n",
       "4  Self-employed          Rural             174.12  24.0     never smoked   \n",
       "\n",
       "   stroke  \n",
       "0       1  \n",
       "1       1  \n",
       "2       1  \n",
       "3       1  \n",
       "4       1  "
      ]
     },
     "execution_count": 8,
     "metadata": {},
     "output_type": "execute_result"
    }
   ],
   "source": [
    "stroke = 'healthcare-dataset-stroke-data.csv'\n",
    "df = pd.read_csv(stroke)\n",
    "df.head()\n"
   ]
  },
  {
   "cell_type": "markdown",
   "metadata": {},
   "source": [
    "# Preprocessing/Feature Engineering\n",
    "To prepare our GPT model, we need to convert the numerical features for hypertension and heart disease into boolean values before inputting them into our text processing model. Lastly, we need to drop the ID column and all rows with NaN values for average glucose level. "
   ]
  },
  {
   "cell_type": "code",
   "execution_count": 9,
   "metadata": {},
   "outputs": [
    {
     "data": {
      "text/html": [
       "<div>\n",
       "<style scoped>\n",
       "    .dataframe tbody tr th:only-of-type {\n",
       "        vertical-align: middle;\n",
       "    }\n",
       "\n",
       "    .dataframe tbody tr th {\n",
       "        vertical-align: top;\n",
       "    }\n",
       "\n",
       "    .dataframe thead th {\n",
       "        text-align: right;\n",
       "    }\n",
       "</style>\n",
       "<table border=\"1\" class=\"dataframe\">\n",
       "  <thead>\n",
       "    <tr style=\"text-align: right;\">\n",
       "      <th></th>\n",
       "      <th>id</th>\n",
       "      <th>gender</th>\n",
       "      <th>age</th>\n",
       "      <th>hypertension</th>\n",
       "      <th>heart_disease</th>\n",
       "      <th>ever_married</th>\n",
       "      <th>work_type</th>\n",
       "      <th>Residence_type</th>\n",
       "      <th>avg_glucose_level</th>\n",
       "      <th>bmi</th>\n",
       "      <th>smoking_status</th>\n",
       "      <th>stroke</th>\n",
       "    </tr>\n",
       "  </thead>\n",
       "  <tbody>\n",
       "    <tr>\n",
       "      <th>0</th>\n",
       "      <td>9046</td>\n",
       "      <td>Male</td>\n",
       "      <td>67.0</td>\n",
       "      <td>False</td>\n",
       "      <td>True</td>\n",
       "      <td>Yes</td>\n",
       "      <td>Private</td>\n",
       "      <td>Urban</td>\n",
       "      <td>228.69</td>\n",
       "      <td>36.6</td>\n",
       "      <td>formerly smoked</td>\n",
       "      <td>1</td>\n",
       "    </tr>\n",
       "    <tr>\n",
       "      <th>1</th>\n",
       "      <td>51676</td>\n",
       "      <td>Female</td>\n",
       "      <td>61.0</td>\n",
       "      <td>False</td>\n",
       "      <td>False</td>\n",
       "      <td>Yes</td>\n",
       "      <td>Self-employed</td>\n",
       "      <td>Rural</td>\n",
       "      <td>202.21</td>\n",
       "      <td>NaN</td>\n",
       "      <td>never smoked</td>\n",
       "      <td>1</td>\n",
       "    </tr>\n",
       "    <tr>\n",
       "      <th>2</th>\n",
       "      <td>31112</td>\n",
       "      <td>Male</td>\n",
       "      <td>80.0</td>\n",
       "      <td>False</td>\n",
       "      <td>True</td>\n",
       "      <td>Yes</td>\n",
       "      <td>Private</td>\n",
       "      <td>Rural</td>\n",
       "      <td>105.92</td>\n",
       "      <td>32.5</td>\n",
       "      <td>never smoked</td>\n",
       "      <td>1</td>\n",
       "    </tr>\n",
       "    <tr>\n",
       "      <th>3</th>\n",
       "      <td>60182</td>\n",
       "      <td>Female</td>\n",
       "      <td>49.0</td>\n",
       "      <td>False</td>\n",
       "      <td>False</td>\n",
       "      <td>Yes</td>\n",
       "      <td>Private</td>\n",
       "      <td>Urban</td>\n",
       "      <td>171.23</td>\n",
       "      <td>34.4</td>\n",
       "      <td>smokes</td>\n",
       "      <td>1</td>\n",
       "    </tr>\n",
       "    <tr>\n",
       "      <th>4</th>\n",
       "      <td>1665</td>\n",
       "      <td>Female</td>\n",
       "      <td>79.0</td>\n",
       "      <td>True</td>\n",
       "      <td>False</td>\n",
       "      <td>Yes</td>\n",
       "      <td>Self-employed</td>\n",
       "      <td>Rural</td>\n",
       "      <td>174.12</td>\n",
       "      <td>24.0</td>\n",
       "      <td>never smoked</td>\n",
       "      <td>1</td>\n",
       "    </tr>\n",
       "  </tbody>\n",
       "</table>\n",
       "</div>"
      ],
      "text/plain": [
       "      id  gender   age  hypertension  heart_disease ever_married  \\\n",
       "0   9046    Male  67.0         False           True          Yes   \n",
       "1  51676  Female  61.0         False          False          Yes   \n",
       "2  31112    Male  80.0         False           True          Yes   \n",
       "3  60182  Female  49.0         False          False          Yes   \n",
       "4   1665  Female  79.0          True          False          Yes   \n",
       "\n",
       "       work_type Residence_type  avg_glucose_level   bmi   smoking_status  \\\n",
       "0        Private          Urban             228.69  36.6  formerly smoked   \n",
       "1  Self-employed          Rural             202.21   NaN     never smoked   \n",
       "2        Private          Rural             105.92  32.5     never smoked   \n",
       "3        Private          Urban             171.23  34.4           smokes   \n",
       "4  Self-employed          Rural             174.12  24.0     never smoked   \n",
       "\n",
       "   stroke  \n",
       "0       1  \n",
       "1       1  \n",
       "2       1  \n",
       "3       1  \n",
       "4       1  "
      ]
     },
     "execution_count": 9,
     "metadata": {},
     "output_type": "execute_result"
    }
   ],
   "source": [
    "# Change hypertension and heart disease to boolean values\n",
    "df['hypertension'] = df['hypertension'].astype(bool)\n",
    "df['heart_disease'] = df['heart_disease'].astype(bool)\n",
    "\n",
    "df.head()"
   ]
  },
  {
   "cell_type": "code",
   "execution_count": 10,
   "metadata": {},
   "outputs": [
    {
     "data": {
      "text/html": [
       "<div>\n",
       "<style scoped>\n",
       "    .dataframe tbody tr th:only-of-type {\n",
       "        vertical-align: middle;\n",
       "    }\n",
       "\n",
       "    .dataframe tbody tr th {\n",
       "        vertical-align: top;\n",
       "    }\n",
       "\n",
       "    .dataframe thead th {\n",
       "        text-align: right;\n",
       "    }\n",
       "</style>\n",
       "<table border=\"1\" class=\"dataframe\">\n",
       "  <thead>\n",
       "    <tr style=\"text-align: right;\">\n",
       "      <th></th>\n",
       "      <th>gender</th>\n",
       "      <th>age</th>\n",
       "      <th>hypertension</th>\n",
       "      <th>heart_disease</th>\n",
       "      <th>ever_married</th>\n",
       "      <th>work_type</th>\n",
       "      <th>Residence_type</th>\n",
       "      <th>avg_glucose_level</th>\n",
       "      <th>bmi</th>\n",
       "      <th>smoking_status</th>\n",
       "      <th>stroke</th>\n",
       "    </tr>\n",
       "  </thead>\n",
       "  <tbody>\n",
       "    <tr>\n",
       "      <th>0</th>\n",
       "      <td>Male</td>\n",
       "      <td>67.0</td>\n",
       "      <td>False</td>\n",
       "      <td>True</td>\n",
       "      <td>Yes</td>\n",
       "      <td>Private</td>\n",
       "      <td>Urban</td>\n",
       "      <td>228.69</td>\n",
       "      <td>36.6</td>\n",
       "      <td>formerly smoked</td>\n",
       "      <td>1</td>\n",
       "    </tr>\n",
       "    <tr>\n",
       "      <th>2</th>\n",
       "      <td>Male</td>\n",
       "      <td>80.0</td>\n",
       "      <td>False</td>\n",
       "      <td>True</td>\n",
       "      <td>Yes</td>\n",
       "      <td>Private</td>\n",
       "      <td>Rural</td>\n",
       "      <td>105.92</td>\n",
       "      <td>32.5</td>\n",
       "      <td>never smoked</td>\n",
       "      <td>1</td>\n",
       "    </tr>\n",
       "    <tr>\n",
       "      <th>3</th>\n",
       "      <td>Female</td>\n",
       "      <td>49.0</td>\n",
       "      <td>False</td>\n",
       "      <td>False</td>\n",
       "      <td>Yes</td>\n",
       "      <td>Private</td>\n",
       "      <td>Urban</td>\n",
       "      <td>171.23</td>\n",
       "      <td>34.4</td>\n",
       "      <td>smokes</td>\n",
       "      <td>1</td>\n",
       "    </tr>\n",
       "    <tr>\n",
       "      <th>4</th>\n",
       "      <td>Female</td>\n",
       "      <td>79.0</td>\n",
       "      <td>True</td>\n",
       "      <td>False</td>\n",
       "      <td>Yes</td>\n",
       "      <td>Self-employed</td>\n",
       "      <td>Rural</td>\n",
       "      <td>174.12</td>\n",
       "      <td>24.0</td>\n",
       "      <td>never smoked</td>\n",
       "      <td>1</td>\n",
       "    </tr>\n",
       "    <tr>\n",
       "      <th>5</th>\n",
       "      <td>Male</td>\n",
       "      <td>81.0</td>\n",
       "      <td>False</td>\n",
       "      <td>False</td>\n",
       "      <td>Yes</td>\n",
       "      <td>Private</td>\n",
       "      <td>Urban</td>\n",
       "      <td>186.21</td>\n",
       "      <td>29.0</td>\n",
       "      <td>formerly smoked</td>\n",
       "      <td>1</td>\n",
       "    </tr>\n",
       "  </tbody>\n",
       "</table>\n",
       "</div>"
      ],
      "text/plain": [
       "   gender   age  hypertension  heart_disease ever_married      work_type  \\\n",
       "0    Male  67.0         False           True          Yes        Private   \n",
       "2    Male  80.0         False           True          Yes        Private   \n",
       "3  Female  49.0         False          False          Yes        Private   \n",
       "4  Female  79.0          True          False          Yes  Self-employed   \n",
       "5    Male  81.0         False          False          Yes        Private   \n",
       "\n",
       "  Residence_type  avg_glucose_level   bmi   smoking_status  stroke  \n",
       "0          Urban             228.69  36.6  formerly smoked       1  \n",
       "2          Rural             105.92  32.5     never smoked       1  \n",
       "3          Urban             171.23  34.4           smokes       1  \n",
       "4          Rural             174.12  24.0     never smoked       1  \n",
       "5          Urban             186.21  29.0  formerly smoked       1  "
      ]
     },
     "execution_count": 10,
     "metadata": {},
     "output_type": "execute_result"
    }
   ],
   "source": [
    "# Drop id column and any rows with missing values\n",
    "df = df.drop(columns=['id'])\n",
    "df = df.dropna()\n",
    "df.head()"
   ]
  },
  {
   "cell_type": "markdown",
   "metadata": {},
   "source": [
    "# Resampling\n",
    "To address the class imbalance for those who've had a stroke and those who haven't, we will reduce the number of instances in the majority class to match the number of instance in the minority class."
   ]
  },
  {
   "cell_type": "code",
   "execution_count": 11,
   "metadata": {},
   "outputs": [
    {
     "data": {
      "text/plain": [
       "stroke\n",
       "0    4700\n",
       "1     209\n",
       "Name: count, dtype: int64"
      ]
     },
     "execution_count": 11,
     "metadata": {},
     "output_type": "execute_result"
    }
   ],
   "source": [
    "from sklearn.utils import resample\n",
    "\n",
    "# Let's see the distribution of the stroke classes \n",
    "df['stroke'].value_counts()"
   ]
  },
  {
   "cell_type": "code",
   "execution_count": 12,
   "metadata": {},
   "outputs": [
    {
     "data": {
      "text/plain": [
       "stroke\n",
       "0    50\n",
       "1    50\n",
       "Name: count, dtype: int64"
      ]
     },
     "execution_count": 12,
     "metadata": {},
     "output_type": "execute_result"
    }
   ],
   "source": [
    "# Let separate the majority and minority classes\n",
    "df_majority = df[df['stroke'] == 0]\n",
    "df_minority = df[df['stroke'] == 1]\n",
    "\n",
    "# Downsample the majority class\n",
    "df_majority_downsampled = resample(df_majority, \n",
    "                                 replace=False,    # sample without replacement\n",
    "                                 n_samples=50,    # to match minority class\n",
    "                                    random_state=123) # reproducible results\n",
    "\n",
    "df_minority_downsampled = resample(df_minority, \n",
    "                                 replace=False,    # sample without replacement\n",
    "                                 n_samples=50,    # to match minority class\n",
    "                                    random_state=123) # reproducible results\n",
    "\n",
    "# Combine minority class with downsampled majority class\n",
    "df_downsampled = pd.concat([df_majority_downsampled, df_minority_downsampled])\n",
    "\n",
    "# Display new class counts\n",
    "df_downsampled['stroke'].value_counts()\n"
   ]
  },
  {
   "cell_type": "markdown",
   "metadata": {},
   "source": [
    "# Train/Test Split "
   ]
  },
  {
   "cell_type": "code",
   "execution_count": 13,
   "metadata": {},
   "outputs": [
    {
     "name": "stdout",
     "output_type": "stream",
     "text": [
      "Training set size: 80\n",
      "Testing set size: 20\n"
     ]
    }
   ],
   "source": [
    "# Split the dataset into features and target\n",
    "\n",
    "X = df_downsampled.drop(columns=['stroke'])\n",
    "Y = df_downsampled['stroke']\n",
    "\n",
    "# Split the dataset into training and testing sets\n",
    "X_train, X_test, Y_train, Y_test = train_test_split(X, Y, test_size=0.2, random_state=123)\n",
    "\n",
    "# Print the size of the training and testing sets\n",
    "\n",
    "print(f'Training set size: {len(X_train)}')\n",
    "print(f'Testing set size: {len(X_test)}')"
   ]
  },
  {
   "cell_type": "code",
   "execution_count": 15,
   "metadata": {},
   "outputs": [],
   "source": [
    "# Writing a function to get the response from GPT-4o mini from each row in the dataframe\n",
    "\n",
    "class StrokeDataset(Dataset):\n",
    "    def __init__(self, df):\n",
    "        self.df = df\n",
    "\n",
    "    def __len__(self):\n",
    "        return len(self.df)\n",
    "\n",
    "    def __getitem__(self, idx):\n",
    "        column_names = [\n",
    "            ('gender', 'The patient gender is '),\n",
    "            ('age', '. The patient age is '),\n",
    "            ('hypertension', '. The patient has hypertension: '),\n",
    "            ('heart_disease', '. The patient has heart disease: '),\n",
    "            ('ever_married', '. The patient is married: '),\n",
    "            ('work_type', '. The patient work type is '),\n",
    "            ('Residence_type', '. The patient residence type is '),\n",
    "            ('avg_glucose_level', '. The patient glucose level is '),\n",
    "            ('bmi', '. The patient BMI is '),\n",
    "            ('smoking_status', '. The patient smoking status is '),\n",
    "        ]\n",
    "\n",
    "        x_strs = [f'{col_desc}{self.df.iloc[idx][col]}' for col, col_desc in column_names]\n",
    "        x_str = ' '.join(x_strs)\n",
    "        x_str = x_str.replace('\\n', ' ')\n",
    "        x_str = '''\n",
    "Prompt: Priotize the following factors in order of importance for a stroke prediction algorithm: gender, age, hypertension, heart disease, ever married, work type, residence type, average glucose level, bmi, and smoking status.\n",
    "Answer: When prioritizing factors for a stroke prediction algorithm, it's important to consider the established risk factors associated with stroke. Based on existing medical research and the relative risk each factor presents, here is a suggested order of importance:\n",
    "\n",
    "1. **Hypertension** - One of the most significant risk factors for stroke.\n",
    "2. **Age** - Stroke risk increases with age.\n",
    "3. **Heart Disease** - A major risk factor that significantly increases the likelihood of stroke.\n",
    "4. **Smoking Status** - Smoking is a well-known risk factor for many cardiovascular conditions, including stroke.\n",
    "5. **Average Glucose Level** - High glucose levels can indicate diabetes, which is a risk factor for stroke.\n",
    "6. **BMI** - Obesity (high BMI) is associated with various health issues, including increased stroke risk.\n",
    "7. **Gender** - While both genders can have strokes, certain studies indicate that men may have a higher risk at younger ages, while women may catch up or surpass that risk at older ages.\n",
    "8. **Ever Married** - This factor may have some correlation with social support systems and health behaviors, but it is less direct than others.\n",
    "9. **Work Type** - Certain work types may influence stress levels and lifestyle, but this is generally a less direct risk factor for stroke compared to the others listed.\n",
    "\n",
    "This prioritization is based on the strength of association with stroke risk as supported by clinical studies and literature. However, the exact order may vary depending on the specific population and context of the study or model being developed.\n",
    "Prompt: Using the factors above and weighted by their importance, predict if the following patient has a history of stroke.\n",
    "''' + x_str\n",
    "        x_str = x_str+'. Please predict with a single word response of True or False.'\n",
    "        return x_str"
   ]
  },
  {
   "cell_type": "code",
   "execution_count": 29,
   "metadata": {},
   "outputs": [],
   "source": [
    "# Writing a function to get the response from GPT-4o mini from each row in the dataframe\n",
    "\n",
    "class StrokeDataset(Dataset):\n",
    "    def __init__(self, df):\n",
    "        self.df = df\n",
    "\n",
    "    def __len__(self):\n",
    "        return len(self.df)\n",
    "\n",
    "    def __getitem__(self, idx):\n",
    "        column_names = [\n",
    "            ('gender', 'The patient gender is '),\n",
    "            ('age', '. The patient age is '),\n",
    "            ('hypertension', '. The patient has hypertension: '),\n",
    "            ('heart_disease', '. The patient has heart disease: '),\n",
    "            ('ever_married', '. The patient is married: '),\n",
    "            ('work_type', '. The patient work type is '),\n",
    "            ('Residence_type', '. The patient residence type is '),\n",
    "            ('avg_glucose_level', '. The patient glucose level is '),\n",
    "            ('bmi', '. The patient BMI is '),\n",
    "            ('smoking_status', '. The patient smoking status is '),\n",
    "        ]\n",
    "\n",
    "        x_strs = [f'{col_desc}{self.df.iloc[idx][col]}' for col, col_desc in column_names]\n",
    "        x_str = ' '.join(x_strs)\n",
    "        x_str = x_str.replace('\\n', ' ')\n",
    "        x_str = '''\n",
    "Prompt: Priotize the following factors in order of importance for a stroke prediction algorithm: gender, age, hypertension, heart disease, ever married, work type, residence type, average glucose level, bmi, and smoking status.\n",
    "Answer:When prioritizing factors for a stroke prediction algorithm, it's essential to consider the established medical knowledge regarding stroke risk factors. Here’s a prioritized list based on their relative importance in predicting strokes:\n",
    "\n",
    "1. **Hypertension** - This is one of the most significant risk factors for stroke.\n",
    "2. **Age** - The risk of stroke increases with age, making this a crucial factor.\n",
    "3. **Heart Disease** - Pre-existing heart conditions significantly increase stroke risk.\n",
    "4. **Average Glucose Level** - High glucose levels can indicate diabetes, which is a risk factor for stroke.\n",
    "5. **Smoking Status** - Smoking is a known risk factor that contributes to cardiovascular disease and stroke.\n",
    "6. **BMI** - Obesity is associated with various health issues, including an increased risk of stroke.\n",
    "7. **Gender** - While there are gender differences in stroke incidence and outcomes, it is generally less influential than the above factors.\n",
    "8. **Ever Married** - Marital status can have some correlation with health outcomes but is less directly related to stroke risk.\n",
    "9. **Work Type** - While it might influence lifestyle and stress levels, it is generally less critical than the other health-related factors.\n",
    "\n",
    "This prioritization reflects a combination of direct medical risk factors and general demographic information, with a focus on factors that have a well-established link to stroke risk.\n",
    "\n",
    "Prompt: Using the factors above and weighted by their importance, predict using a single word if the following patient has a history of stroke.\n",
    "''' + x_str\n",
    "        x_str = x_str+'. Please predict True or False.'\n",
    "        return x_str"
   ]
  },
  {
   "cell_type": "code",
   "execution_count": 16,
   "metadata": {},
   "outputs": [
    {
     "name": "stdout",
     "output_type": "stream",
     "text": [
      "\n",
      "Prompt: Priotize the following factors in order of importance for a stroke prediction algorithm: gender, age, hypertension, heart disease, ever married, work type, residence type, average glucose level, bmi, and smoking status.\n",
      "Answer: When prioritizing factors for a stroke prediction algorithm, it's important to consider the established risk factors associated with stroke. Based on existing medical research and the relative risk each factor presents, here is a suggested order of importance:\n",
      "\n",
      "1. **Hypertension** - One of the most significant risk factors for stroke.\n",
      "2. **Age** - Stroke risk increases with age.\n",
      "3. **Heart Disease** - A major risk factor that significantly increases the likelihood of stroke.\n",
      "4. **Smoking Status** - Smoking is a well-known risk factor for many cardiovascular conditions, including stroke.\n",
      "5. **Average Glucose Level** - High glucose levels can indicate diabetes, which is a risk factor for stroke.\n",
      "6. **BMI** - Obesity (high BMI) is associated with various health issues, including increased stroke risk.\n",
      "7. **Gender** - While both genders can have strokes, certain studies indicate that men may have a higher risk at younger ages, while women may catch up or surpass that risk at older ages.\n",
      "8. **Ever Married** - This factor may have some correlation with social support systems and health behaviors, but it is less direct than others.\n",
      "9. **Work Type** - Certain work types may influence stress levels and lifestyle, but this is generally a less direct risk factor for stroke compared to the others listed.\n",
      "\n",
      "This prioritization is based on the strength of association with stroke risk as supported by clinical studies and literature. However, the exact order may vary depending on the specific population and context of the study or model being developed.\n",
      "Prompt: Using the factors above and weighted by their importance, predict if the following patient has a history of stroke.\n",
      "The patient gender is Female . The patient age is 41.0 . The patient has hypertension: True . The patient has heart disease: False . The patient is married: Yes . The patient work type is Govt_job . The patient residence type is Rural . The patient glucose level is 107.5 . The patient BMI is 54.0 . The patient smoking status is never smoked. Please predict with a single word response of True or False.\n"
     ]
    }
   ],
   "source": [
    "results = []\n",
    "dataset = StrokeDataset(X_test)\n",
    "\n",
    "prompt = dataset[0]\n",
    "print(prompt)"
   ]
  },
  {
   "cell_type": "code",
   "execution_count": 17,
   "metadata": {},
   "outputs": [
    {
     "name": "stderr",
     "output_type": "stream",
     "text": [
      "  0%|          | 0/20 [00:00<?, ?it/s]"
     ]
    },
    {
     "name": "stderr",
     "output_type": "stream",
     "text": [
      "100%|██████████| 20/20 [19:43<00:00, 59.18s/it]"
     ]
    },
    {
     "name": "stdout",
     "output_type": "stream",
     "text": [
      "['True', 'True', 'True', 'False', 'True', 'False', 'False', 'False', 'True', 'False', 'False', 'False', 'False', 'True', 'False', 'False', 'True', 'False', 'True', 'False']\n"
     ]
    },
    {
     "name": "stderr",
     "output_type": "stream",
     "text": [
      "\n"
     ]
    }
   ],
   "source": [
    "for x_str in tqdm(dataset):\n",
    "    response = get_gpt_response(x_str, model=\"gpt-4o-mini\")\n",
    "    results.append(response)\n",
    "    time.sleep(5)\n",
    "\n",
    "print(results)"
   ]
  },
  {
   "cell_type": "code",
   "execution_count": 18,
   "metadata": {},
   "outputs": [
    {
     "name": "stdout",
     "output_type": "stream",
     "text": [
      "Accuracy: 0.75\n",
      "Precision: 0.7568181818181818\n"
     ]
    }
   ],
   "source": [
    "# Convert the results from High to 1 and Low to 0\n",
    "results = [1 if 'True' in result else 0 for result in results]\n",
    "\n",
    "# Calculate the precision using the test target and the results\n",
    "accuracy = accuracy_score(Y_test, results)\n",
    "print(f\"Accuracy: {accuracy}\")\n",
    "precision = average_precision_score(Y_test, results)\n",
    "print(f\"Precision: {precision}\")"
   ]
  },
  {
   "cell_type": "code",
   "execution_count": 19,
   "metadata": {},
   "outputs": [
    {
     "name": "stdout",
     "output_type": "stream",
     "text": [
      "AUROC: 0.7626262626262625\n"
     ]
    },
    {
     "data": {
      "image/png": "[encoded data removed]",
      "text/plain": [
       "<Figure size 1000x700 with 2 Axes>"
      ]
     },
     "metadata": {},
     "output_type": "display_data"
    }
   ],
   "source": [
    "auroc = roc_auc_score(Y_test, results)\n",
    "print(f\"AUROC: {auroc}\")\n",
    "\n",
    "# Create a confusion matrix\n",
    "from sklearn.metrics import confusion_matrix\n",
    "import matplotlib.pyplot as plt\n",
    "import seaborn as sns\n",
    "\n",
    "cm = confusion_matrix(Y_test, results)\n",
    "plt.figure(figsize=(10, 7))\n",
    "sns.heatmap(cm, annot=True, fmt='g')\n",
    "plt.xlabel('Predicted')\n",
    "plt.ylabel('Actual')\n",
    "plt.show()\n"
   ]
  },
  {
   "cell_type": "markdown",
   "metadata": {},
   "source": [
    "# Train Using Classification Model\n",
    "We will create a embeddings using 'text-embedding-ada-002' model to help train several classification models. "
   ]
  },
  {
   "cell_type": "code",
   "execution_count": 20,
   "metadata": {},
   "outputs": [],
   "source": [
    "def get_embeddings(texts: str, model: str = \"text-embedding-ada-002\") -> str:\n",
    "    try: \n",
    "        embeddings = []\n",
    "        for text in tqdm(texts):\n",
    "            text = text.replace('\\n', ' ')\n",
    "            response = client.embeddings.create(\n",
    "                model=model,\n",
    "                input=[text]\n",
    "            )\n",
    "            embeddings.append(response.data[0].embedding)\n",
    "        return embeddings\n",
    "    except Exception as e:\n",
    "        print(f'Error: {e}')\n",
    "        return None"
   ]
  },
  {
   "cell_type": "code",
   "execution_count": 21,
   "metadata": {},
   "outputs": [
    {
     "name": "stderr",
     "output_type": "stream",
     "text": [
      "100%|██████████| 80/80 [00:12<00:00,  6.47it/s]\n"
     ]
    },
    {
     "data": {
      "text/plain": [
       "(80, 1536)"
      ]
     },
     "execution_count": 21,
     "metadata": {},
     "output_type": "execute_result"
    }
   ],
   "source": [
    "dataset = StrokeDataset(X_train)\n",
    "embeddings = get_embeddings(dataset, model=\"text-embedding-ada-002\")\n",
    "\n",
    "#shape of the embeddings\n",
    "np.shape(embeddings)"
   ]
  },
  {
   "cell_type": "code",
   "execution_count": 24,
   "metadata": {},
   "outputs": [
    {
     "name": "stdout",
     "output_type": "stream",
     "text": [
      "Logistic Regression Accuracy: 0.5125\n",
      "Logistic Regression Precision: 0.4875\n",
      "Logistic Regression AUROC: 0.5\n",
      "Logistic Regression Confusion Matrix: [[41  0]\n",
      " [39  0]]\n",
      "Random Forest Accuracy: 1.0\n",
      "Random Forest Precision: 1.0\n",
      "Random Forest AUROC: 1.0\n",
      "Random Forest Confusion Matrix: [[41  0]\n",
      " [ 0 39]]\n",
      "Gradient Boosting Accuracy: 1.0\n",
      "Gradient Boosting Precision: 1.0\n",
      "Gradient Boosting AUROC: 1.0\n",
      "Gradient Boosting Confusion Matrix: [[41  0]\n",
      " [ 0 39]]\n"
     ]
    }
   ],
   "source": [
    "from sklearn.linear_model import LogisticRegression\n",
    "from sklearn.ensemble import RandomForestClassifier, AdaBoostClassifier, GradientBoostingClassifier\n",
    "\n",
    "models = {'Logistic Regression': LogisticRegression(),\n",
    "          'Random Forest': RandomForestClassifier(), \n",
    "          'Gradient Boosting': GradientBoostingClassifier()}\n",
    "\n",
    "for model_name, model in models.items():\n",
    "    model.fit(embeddings, Y_train)\n",
    "    results = model.predict(embeddings)\n",
    "    accuracy = accuracy_score(Y_train, results)\n",
    "    print(f\"{model_name} Accuracy: {accuracy}\")\n",
    "\n",
    "    precision = average_precision_score(Y_train, results)\n",
    "    print(f\"{model_name} Precision: {precision}\")\n",
    "\n",
    "    auroc = roc_auc_score(Y_train, results)\n",
    "    print(f\"{model_name} AUROC: {auroc}\")\n",
    "\n",
    "    cm = confusion_matrix(Y_train, results)\n",
    "    print(f\"{model_name} Confusion Matrix: {cm}\")"
   ]
  },
  {
   "cell_type": "code",
   "execution_count": 26,
   "metadata": {},
   "outputs": [
    {
     "name": "stderr",
     "output_type": "stream",
     "text": [
      "100%|██████████| 20/20 [00:04<00:00,  4.38it/s]\n"
     ]
    },
    {
     "name": "stdout",
     "output_type": "stream",
     "text": [
      "Accuracy: 0.8\n",
      "Precision: 0.7694214876033059\n"
     ]
    },
    {
     "data": {
      "image/png": "[encoded data removed]",
      "text/plain": [
       "<Figure size 640x480 with 2 Axes>"
      ]
     },
     "metadata": {},
     "output_type": "display_data"
    }
   ],
   "source": [
    "test_embeddings = get_embeddings(StrokeDataset(X_test), model=\"text-embedding-ada-002\")\n",
    "test_labels = Y_test\n",
    "\n",
    "predictions = model.predict(test_embeddings)\n",
    "\n",
    "accuracy = accuracy_score(test_labels, predictions)\n",
    "print(f\"Accuracy: {accuracy}\")\n",
    "precision = average_precision_score(test_labels, predictions)\n",
    "print(f\"Precision: {precision}\")\n",
    "\n",
    "# Create a confusion matrix\n",
    "from sklearn.metrics import confusion_matrix\n",
    "import matplotlib.pyplot as plt\n",
    "import seaborn as sns\n",
    "\n",
    "cm = confusion_matrix(test_labels, predictions)\n",
    "sns.heatmap(cm, annot=True, fmt='g')\n",
    "plt.xlabel('Predicted')\n",
    "plt.ylabel('Actual')\n",
    "plt.show()\n"
   ]
  }
 ],
 "metadata": {
  "kernelspec": {
   "display_name": "Python 3",
   "language": "python",
   "name": "python3"
  },
  "language_info": {
   "codemirror_mode": {
    "name": "ipython",
    "version": 3
   },
   "file_extension": ".py",
   "mimetype": "text/x-python",
   "name": "python",
   "nbconvert_exporter": "python",
   "pygments_lexer": "ipython3",
   "version": "3.10.15"
  }
 },
 "nbformat": 4,
 "nbformat_minor": 2
}
